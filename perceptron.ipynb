{
 "cells": [
  {
   "cell_type": "code",
   "execution_count": 9,
   "metadata": {},
   "outputs": [],
   "source": [
    "import numpy as np"
   ]
  },
  {
   "cell_type": "code",
   "execution_count": 15,
   "metadata": {},
   "outputs": [],
   "source": [
    "def perceptron_train(X, y, learning_rate=0.01, epochs=100):\n",
    "    num_features = X.shape[1]\n",
    "    weights = np.zeros(num_features)\n",
    "    bias = 0.0\n",
    "    \n",
    "    for epoch in range(epochs):\n",
    "        for i in range(X.shape[0]):\n",
    "            output = np.dot(X[i], weights) + bias\n",
    "            \n",
    "            weights += learning_rate * (y[i] - output) * X[i]\n",
    "            bias += learning_rate * (y[i] - output)\n",
    "        \n",
    "    return weights, bias\n"
   ]
  },
  {
   "cell_type": "code",
   "execution_count": 16,
   "metadata": {},
   "outputs": [],
   "source": [
    "def perceptron_predict(X, weights, bias):\n",
    "    raw_output = np.dot(X, weights) + bias\n",
    "    \n",
    "    output = np.where(raw_output > 0, 1, 0)\n",
    "    \n",
    "    return output"
   ]
  },
  {
   "cell_type": "code",
   "execution_count": 17,
   "metadata": {},
   "outputs": [
    {
     "name": "stdout",
     "output_type": "stream",
     "text": [
      "Pesos treinados: [0.36913306 0.11149564]\n",
      "Viés treinado: 0.48446327380443394\n",
      "Predição: [1]\n"
     ]
    }
   ],
   "source": [
    "X_train = np.array([[0.2, 0.4], [0.3, 0.5], [0.7, 0.1]])\n",
    "y_train = np.array([0, 1, 1])  # 0 para a primeira amostra, 1 para as outras duas\n",
    "\n",
    "weights, bias = perceptron_train(X_train, y_train)\n",
    "\n",
    "X_test = np.array([[0.6, 0.2]])\n",
    "prediction = perceptron_predict(X_test, weights, bias)\n",
    "\n",
    "print(\"Pesos treinados:\", weights)\n",
    "print(\"Viés treinado:\", bias)\n",
    "print(\"Predição:\", prediction)"
   ]
  },
  {
   "cell_type": "code",
   "execution_count": null,
   "metadata": {},
   "outputs": [],
   "source": []
  }
 ],
 "metadata": {
  "kernelspec": {
   "display_name": "tomy",
   "language": "python",
   "name": "python3"
  },
  "language_info": {
   "codemirror_mode": {
    "name": "ipython",
    "version": 3
   },
   "file_extension": ".py",
   "mimetype": "text/x-python",
   "name": "python",
   "nbconvert_exporter": "python",
   "pygments_lexer": "ipython3",
   "version": "3.12.1"
  }
 },
 "nbformat": 4,
 "nbformat_minor": 2
}
