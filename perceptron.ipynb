{
 "cells": [
  {
   "cell_type": "code",
   "execution_count": 1,
   "metadata": {},
   "outputs": [],
   "source": [
    "import numpy as np"
   ]
  },
  {
   "cell_type": "code",
   "execution_count": 2,
   "metadata": {},
   "outputs": [],
   "source": [
    "class Perceptron:\n",
    "    def __init__(self, learning_rate=0.01, epochs=100):\n",
    "        self.learning_rate = learning_rate\n",
    "        self.epochs = epochs\n",
    "        self.weights = None\n",
    "        self.bias = None\n",
    "\n",
    "    def train(self, X, y):\n",
    "        num_features = X.shape[1]\n",
    "        self.weights = np.zeros(num_features)\n",
    "        self.bias = 0.0\n",
    "        \n",
    "        for _ in range(self.epochs):\n",
    "            for i in range(X.shape[0]):\n",
    "                output = np.dot(X[i], self.weights) + self.bias\n",
    "                \n",
    "                self.weights += self.learning_rate * (y[i] - output) * X[i]\n",
    "                self.bias += self.learning_rate * (y[i] - output)\n",
    "\n",
    "    def predict(self, X):\n",
    "        raw_output = np.dot(X, self.weights) + self.bias\n",
    "        output = np.where(raw_output > 0, 1, 0)\n",
    "        return output"
   ]
  },
  {
   "cell_type": "code",
   "execution_count": 7,
   "metadata": {},
   "outputs": [
    {
     "name": "stdout",
     "output_type": "stream",
     "text": [
      "Previsões: [0 1 1 1]\n"
     ]
    }
   ],
   "source": [
    "X = np.array([[0, 0], [0, 1], [1, 0], [1, 1]])\n",
    "y = np.array([0, 0, 0, 1])\n",
    "\n",
    "perceptron = Perceptron(learning_rate=0.01, epochs=100)\n",
    "perceptron.train(X, y)\n",
    "\n",
    "predictions = perceptron.predict(X)\n",
    "print(\"Previsões:\", predictions)"
   ]
  },
  {
   "cell_type": "code",
   "execution_count": null,
   "metadata": {},
   "outputs": [],
   "source": []
  }
 ],
 "metadata": {
  "kernelspec": {
   "display_name": "tomy",
   "language": "python",
   "name": "python3"
  },
  "language_info": {
   "codemirror_mode": {
    "name": "ipython",
    "version": 3
   },
   "file_extension": ".py",
   "mimetype": "text/x-python",
   "name": "python",
   "nbconvert_exporter": "python",
   "pygments_lexer": "ipython3",
   "version": "3.12.1"
  }
 },
 "nbformat": 4,
 "nbformat_minor": 2
}
