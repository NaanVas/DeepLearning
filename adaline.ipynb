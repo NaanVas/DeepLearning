{
 "cells": [
  {
   "cell_type": "code",
   "execution_count": 1,
   "metadata": {},
   "outputs": [],
   "source": [
    "import numpy as np"
   ]
  },
  {
   "cell_type": "code",
   "execution_count": 9,
   "metadata": {},
   "outputs": [],
   "source": [
    "class Adaline:\n",
    "    def __init__(self, learning_rate=0.01, epochs=50):\n",
    "        self.learning_rate = learning_rate\n",
    "        self.epochs = epochs\n",
    "        self.weights = None\n",
    "        self.bias = None\n",
    "\n",
    "    def train(self, X, y):\n",
    "        self.weights = np.random.randn(X.shape[1])\n",
    "        self.bias = np.random.randn(1)\n",
    "\n",
    "        for _ in range(self.epochs):\n",
    "            y_pred = self.activation_function(X)\n",
    "            \n",
    "            self.weights += self.learning_rate * np.dot(X.T, (y - y_pred))\n",
    "            self.bias += self.learning_rate * np.sum(y - y_pred)\n",
    "\n",
    "    def activation_function(self, X):\n",
    "        return np.dot(X, self.weights) + self.bias\n",
    "\n",
    "    def predict(self, X):\n",
    "        return np.where(self.activation_function(X) >= 0, 1, -1)"
   ]
  },
  {
   "cell_type": "code",
   "execution_count": 10,
   "metadata": {},
   "outputs": [
    {
     "name": "stdout",
     "output_type": "stream",
     "text": [
      "Previsões: [ 1 -1 -1]\n"
     ]
    }
   ],
   "source": [
    "X = np.array([[0.2, 0.4], [0.3, 0.2], [0.1, 0.1]])\n",
    "y = np.array([0.1, 0.2, 0.2])\n",
    "\n",
    "adaline = Adaline(learning_rate=0.01, epochs=50)\n",
    "\n",
    "# Treinamento do Adaline\n",
    "adaline.train(X, y)\n",
    "\n",
    "# Previsões\n",
    "predictions = adaline.predict(X)\n",
    "print(\"Previsões:\", predictions)"
   ]
  }
 ],
 "metadata": {
  "kernelspec": {
   "display_name": "tomy",
   "language": "python",
   "name": "python3"
  },
  "language_info": {
   "codemirror_mode": {
    "name": "ipython",
    "version": 3
   },
   "file_extension": ".py",
   "mimetype": "text/x-python",
   "name": "python",
   "nbconvert_exporter": "python",
   "pygments_lexer": "ipython3",
   "version": "3.12.1"
  }
 },
 "nbformat": 4,
 "nbformat_minor": 2
}
