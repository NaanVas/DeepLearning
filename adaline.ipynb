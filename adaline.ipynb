{
 "cells": [
  {
   "cell_type": "code",
   "execution_count": 1,
   "metadata": {},
   "outputs": [],
   "source": [
    "import numpy as np"
   ]
  },
  {
   "cell_type": "code",
   "execution_count": 2,
   "metadata": {},
   "outputs": [],
   "source": [
    "def adaline_train(X, y, learning_rate=0.01, epochs=100):\n",
    "    num_features = X.shape[1]\n",
    "    weights = np.zeros(num_features)\n",
    "    bias = 0.0\n",
    "    \n",
    "    for epoch in range(epochs):\n",
    "        output = np.dot(X, weights) + bias\n",
    "        error = y - output\n",
    "        \n",
    "        weights += learning_rate * np.dot(X.T, error)\n",
    "        bias += learning_rate * np.sum(error)\n",
    "        \n",
    "    return weights, bias"
   ]
  },
  {
   "cell_type": "code",
   "execution_count": 3,
   "metadata": {},
   "outputs": [],
   "source": [
    "def adaline_predict(X, weights, bias):\n",
    "    return np.dot(X, weights) + bias"
   ]
  },
  {
   "cell_type": "code",
   "execution_count": 4,
   "metadata": {},
   "outputs": [
    {
     "name": "stdout",
     "output_type": "stream",
     "text": [
      "Pesos treinados: [0.28518656 0.03116967]\n",
      "Vies treinado: 0.34053154616435183\n",
      "Predição: [0.51787742]\n"
     ]
    }
   ],
   "source": [
    "X_train = np.array([[0.2, 0.4], [0.3, 0.5], [0.7, 0.1]])\n",
    "y_train = np.array([0.1, 0.5, 0.8])\n",
    "\n",
    "weights, bias = adaline_train(X_train, y_train)\n",
    "\n",
    "X_test = np.array([[0.6, 0.2]])\n",
    "prediction = adaline_predict(X_test, weights, bias)\n",
    "\n",
    "print(\"Pesos treinados:\", weights)\n",
    "print(\"Vies treinado:\", bias)\n",
    "print(\"Predição:\", prediction)"
   ]
  }
 ],
 "metadata": {
  "kernelspec": {
   "display_name": "tomy",
   "language": "python",
   "name": "python3"
  },
  "language_info": {
   "codemirror_mode": {
    "name": "ipython",
    "version": 3
   },
   "file_extension": ".py",
   "mimetype": "text/x-python",
   "name": "python",
   "nbconvert_exporter": "python",
   "pygments_lexer": "ipython3",
   "version": "3.12.1"
  }
 },
 "nbformat": 4,
 "nbformat_minor": 2
}
